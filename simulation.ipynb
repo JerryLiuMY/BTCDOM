{
 "cells": [
  {
   "cell_type": "code",
   "execution_count": 1,
   "id": "033a727d-c011-436a-9505-9264268db846",
   "metadata": {},
   "outputs": [],
   "source": [
    "import numpy as np\n",
    "\n",
    "# Simulation data for multiple assets\n",
    "time_periods = 10\n",
    "n_assets = 5 \n",
    "\n",
    "# Random market caps and prices\n",
    "market_caps = np.random.rand(n_assets) * 1000\n",
    "prices = np.random.rand(time_periods, n_assets) * 100\n",
    "\n",
    "# Initialize index and divisor\n",
    "index = np.zeros(time_periods)\n",
    "weights = np.zeros((time_periods, n_assets))\n",
    "divisor = np.zeros(time_periods)"
   ]
  },
  {
   "cell_type": "code",
   "execution_count": 2,
   "id": "787bdaf5-67a5-4e27-be18-47510a8f324c",
   "metadata": {},
   "outputs": [
    {
     "name": "stdout",
     "output_type": "stream",
     "text": [
      "100000.0\n",
      "100000.0\n",
      "100000.0\n",
      "100000.0\n",
      "100000.0\n",
      "100000.0\n",
      "100000.0\n",
      "100000.0\n",
      "100000.0\n"
     ]
    }
   ],
   "source": [
    "# Initialize index\n",
    "index_init = 1000\n",
    "\n",
    "# Weighting factor\n",
    "weighting_factors = market_caps / np.sum(market_caps) * 100\n",
    "\n",
    "# Initial weights & divisor\n",
    "weights[0] = index_init * weighting_factors / prices[0]\n",
    "divisor[0] = np.sum(prices[0] * weights[0])\n",
    "index[0] = np.sum(prices[0] * weights[0] / divisor[0]) * 1000\n",
    "\n",
    "# Compute Index and Divisor over time\n",
    "for t in range(1, time_periods):\n",
    "    # Calculate weights for time t\n",
    "    weights[t] = index[t-1] * weighting_factors / prices[t]\n",
    "    \n",
    "    # Update Divisor for time t\n",
    "    divisor[t] = divisor[t-1] * (np.sum(prices[t] * weights[t]) / np.sum(prices[t-1] * weights[t-1]))\n",
    "    print(divisor[t])\n",
    "    \n",
    "    # Update the Index for time t\n",
    "    index[t] = np.sum(prices[t] * weights[t] / divisor[t]) * 1000"
   ]
  },
  {
   "cell_type": "code",
   "execution_count": null,
   "id": "4312e471-c169-4936-8171-4cce82367b4e",
   "metadata": {},
   "outputs": [],
   "source": []
  }
 ],
 "metadata": {
  "kernelspec": {
   "display_name": "Python 3 (ipykernel)",
   "language": "python",
   "name": "python3"
  },
  "language_info": {
   "codemirror_mode": {
    "name": "ipython",
    "version": 3
   },
   "file_extension": ".py",
   "mimetype": "text/x-python",
   "name": "python",
   "nbconvert_exporter": "python",
   "pygments_lexer": "ipython3",
   "version": "3.8.19"
  }
 },
 "nbformat": 4,
 "nbformat_minor": 5
}
