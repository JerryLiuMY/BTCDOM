{
 "cells": [
  {
   "cell_type": "code",
   "execution_count": 1,
   "id": "033a727d-c011-436a-9505-9264268db846",
   "metadata": {},
   "outputs": [],
   "source": [
    "import numpy as np\n",
    "import pandas as pd\n",
    "import matplotlib.pyplot as plt\n",
    "import seaborn as sns\n",
    "from tqdm.notebook import tqdm\n",
    "sns.set()\n",
    "\n",
    "# Simulation data for multiple assets\n",
    "n_assets = 300\n",
    "time_periods = 100000"
   ]
  },
  {
   "cell_type": "code",
   "execution_count": 2,
   "id": "2c571218-8002-41ad-ad81-7947c1049ee0",
   "metadata": {},
   "outputs": [],
   "source": [
    "def initialization(n_assets, time_periods):\n",
    "\n",
    "    # Random market caps and prices\n",
    "    index_init = 1000\n",
    "    market_caps = np.random.rand(n_assets) * 1000\n",
    "    prices = np.random.rand(time_periods, n_assets) * 100\n",
    "    \n",
    "    # Weighting factor\n",
    "    weighting_factors = market_caps / np.sum(market_caps) * 100\n",
    "    \n",
    "    return index_init, weighting_factors, prices"
   ]
  },
  {
   "cell_type": "code",
   "execution_count": 3,
   "id": "787bdaf5-67a5-4e27-be18-47510a8f324c",
   "metadata": {},
   "outputs": [],
   "source": [
    "def simulation(index_init, weighting_factors, prices):\n",
    "    # Initialize index and divisor\n",
    "    indices = np.zeros(time_periods)\n",
    "    weights = np.zeros((time_periods, n_assets))\n",
    "    divisors = np.zeros(time_periods)\n",
    "    \n",
    "    # Initial weights & divisor\n",
    "    weights[0] = index_init * weighting_factors / prices[0]\n",
    "    divisors[0] = np.sum(prices[0] * weights[0])\n",
    "    indices[0] = np.sum(prices[0] * weights[0] / divisors[0]) * 1000\n",
    "    \n",
    "    # Compute Indices and Divisors over time\n",
    "    for t in range(1, time_periods):\n",
    "        # Calculate weights for time t\n",
    "        weights[t] = indices[t-1] * weighting_factors / prices[t]\n",
    "        \n",
    "        # Update Divisors for time t\n",
    "        divisors[t] = divisors[t-1] * (np.sum(prices[t] * weights[t]) / np.sum(prices[t-1] * weights[t-1]))\n",
    "        \n",
    "        # Update the Index for time t\n",
    "        indices[t] = np.sum(prices[0] * weights[t] / divisors[t]) * 1000\n",
    "    \n",
    "    return indices"
   ]
  },
  {
   "cell_type": "code",
   "execution_count": 4,
   "id": "8b2882cf-bef4-4310-9f59-6b870ecae307",
   "metadata": {},
   "outputs": [
    {
     "data": {
      "application/vnd.jupyter.widget-view+json": {
       "model_id": "99aeee1176db4b58ad8e1492cd0c1238",
       "version_major": 2,
       "version_minor": 0
      },
      "text/plain": [
       "  0%|          | 0/20 [00:00<?, ?it/s]"
      ]
     },
     "metadata": {},
     "output_type": "display_data"
    }
   ],
   "source": [
    "indices_df = pd.DataFrame()\n",
    "\n",
    "n_simus = 20\n",
    "for n in tqdm(range(n_simus)):\n",
    "    index_init, weighting_factors, prices = initialization(n_assets, time_periods)\n",
    "    indices = simulation(index_init, weighting_factors, prices)\n",
    "    indices_df[f\"trial_{n}\"] = indices"
   ]
  },
  {
   "cell_type": "code",
   "execution_count": 8,
   "id": "b999b2b9-223b-4d22-9479-34a14604d7d8",
   "metadata": {},
   "outputs": [],
   "source": [
    "indices_df.describe().to_csv(\"description.csv\")"
   ]
  },
  {
   "cell_type": "code",
   "execution_count": null,
   "id": "901ce456-cc88-4e55-b074-55bfe3a86791",
   "metadata": {},
   "outputs": [],
   "source": []
  }
 ],
 "metadata": {
  "kernelspec": {
   "display_name": "Python 3 (ipykernel)",
   "language": "python",
   "name": "python3"
  },
  "language_info": {
   "codemirror_mode": {
    "name": "ipython",
    "version": 3
   },
   "file_extension": ".py",
   "mimetype": "text/x-python",
   "name": "python",
   "nbconvert_exporter": "python",
   "pygments_lexer": "ipython3",
   "version": "3.8.19"
  }
 },
 "nbformat": 4,
 "nbformat_minor": 5
}
