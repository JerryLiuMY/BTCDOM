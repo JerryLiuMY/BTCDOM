{
 "cells": [
  {
   "cell_type": "code",
   "execution_count": 2,
   "id": "033a727d-c011-436a-9505-9264268db846",
   "metadata": {},
   "outputs": [],
   "source": [
    "import numpy as np\n",
    "import matplotlib.pyplot as plt\n",
    "import seaborn as sns\n",
    "from tqdm.notebook import tqdm\n",
    "sns.set()\n",
    "\n",
    "# Simulation data for multiple assets\n",
    "n_assets = 300\n",
    "time_periods = 100000"
   ]
  },
  {
   "cell_type": "code",
   "execution_count": 3,
   "id": "2c571218-8002-41ad-ad81-7947c1049ee0",
   "metadata": {},
   "outputs": [],
   "source": [
    "def initialization(n_assets, time_periods):\n",
    "\n",
    "    # Random market caps and prices\n",
    "    index_init = 1000\n",
    "    market_caps = np.random.rand(n_assets) * 1000\n",
    "    prices = np.random.rand(time_periods, n_assets) * 100\n",
    "    \n",
    "    # Weighting factor\n",
    "    weighting_factors = market_caps / np.sum(market_caps) * 100\n",
    "    \n",
    "    return index_init, weighting_factors, prices"
   ]
  },
  {
   "cell_type": "code",
   "execution_count": 4,
   "id": "787bdaf5-67a5-4e27-be18-47510a8f324c",
   "metadata": {},
   "outputs": [],
   "source": [
    "def simulation(index_init, weighting_factors, prices):\n",
    "    # Initialize index and divisor\n",
    "    index = np.zeros(time_periods)\n",
    "    weights = np.zeros((time_periods, n_assets))\n",
    "    divisor = np.zeros(time_periods)\n",
    "    \n",
    "    # Initial weights & divisor\n",
    "    weights[0] = index_init * weighting_factors / prices[0]\n",
    "    divisor[0] = np.sum(prices[0] * weights[0])\n",
    "    index[0] = np.sum(prices[0] * weights[0] / divisor[0]) * 1000\n",
    "    \n",
    "    # Compute Index and Divisor over time\n",
    "    for t in range(1, time_periods):\n",
    "        # Calculate weights for time t\n",
    "        weights[t] = index[t-1] * weighting_factors / prices[t]\n",
    "        \n",
    "        # Update Divisor for time t\n",
    "        divisor[t] = divisor[t-1] * (np.sum(prices[t] * weights[t]) / np.sum(prices[t-1] * weights[t-1]))\n",
    "        \n",
    "        # Update the Index for time t\n",
    "        index[t] = np.sum(prices[0] * weights[t] / divisor[t]) * 1000\n",
    "\n",
    "    max_index = max(index)\n",
    "    \n",
    "    return max_index"
   ]
  },
  {
   "cell_type": "code",
   "execution_count": 5,
   "id": "9da57c23-098e-4ec4-83d5-f5e49798868d",
   "metadata": {},
   "outputs": [
    {
     "data": {
      "application/vnd.jupyter.widget-view+json": {
       "model_id": "5e9030fa5a2842659f400492d17a9bce",
       "version_major": 2,
       "version_minor": 0
      },
      "text/plain": [
       "  0%|          | 0/100 [00:00<?, ?it/s]"
      ]
     },
     "metadata": {},
     "output_type": "display_data"
    }
   ],
   "source": [
    "n_simus = 100\n",
    "max_indices = []\n",
    "\n",
    "for n in tqdm(range(n_simus)):\n",
    "    index_init, weighting_factors, prices = initialization(n_assets, time_periods)\n",
    "    max_index = simulation(index_init, weighting_factors, prices)\n",
    "    max_indices.append(max_index)"
   ]
  },
  {
   "cell_type": "code",
   "execution_count": 17,
   "id": "546759ed-1a6b-4fc7-9dfa-15e3dcf8aaf5",
   "metadata": {},
   "outputs": [
    {
     "data": {
      "image/png": "[encoded data removed]",
      "text/plain": [
       "<Figure size 1200x600 with 1 Axes>"
      ]
     },
     "metadata": {},
     "output_type": "display_data"
    }
   ],
   "source": [
    "fig, ax = plt.subplots(1, 1, figsize=(12, 6))\n",
    "ax.hist(max_indices, bins=100)\n",
    "plt.show()"
   ]
  },
  {
   "cell_type": "code",
   "execution_count": 18,
   "id": "ad0deb87-580e-4afa-a2e6-4743a55ca6c1",
   "metadata": {},
   "outputs": [
    {
     "data": {
      "text/plain": [
       "14806518000.5664"
      ]
     },
     "execution_count": 18,
     "metadata": {},
     "output_type": "execute_result"
    }
   ],
   "source": [
    "max(max_indices)"
   ]
  },
  {
   "cell_type": "code",
   "execution_count": null,
   "id": "901ce456-cc88-4e55-b074-55bfe3a86791",
   "metadata": {},
   "outputs": [],
   "source": []
  }
 ],
 "metadata": {
  "kernelspec": {
   "display_name": "Python 3 (ipykernel)",
   "language": "python",
   "name": "python3"
  },
  "language_info": {
   "codemirror_mode": {
    "name": "ipython",
    "version": 3
   },
   "file_extension": ".py",
   "mimetype": "text/x-python",
   "name": "python",
   "nbconvert_exporter": "python",
   "pygments_lexer": "ipython3",
   "version": "3.8.19"
  }
 },
 "nbformat": 4,
 "nbformat_minor": 5
}
